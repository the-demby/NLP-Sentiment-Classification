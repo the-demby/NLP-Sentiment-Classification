{
 "cells": [
  {
   "cell_type": "code",
   "execution_count": 1,
   "id": "9fad3573",
   "metadata": {},
   "outputs": [
    {
     "name": "stderr",
     "output_type": "stream",
     "text": [
      "[nltk_data] Downloading package punkt to\n",
      "[nltk_data]     c:\\Users\\pc\\OneDrive\\Documents\\ENSAE\\ML For NLP\\Final\n",
      "[nltk_data]     Project\\NLP-Sentiment-Classification\\nltk_data...\n",
      "[nltk_data]   Package punkt is already up-to-date!\n",
      "[nltk_data] Downloading package stopwords to\n",
      "[nltk_data]     c:\\Users\\pc\\OneDrive\\Documents\\ENSAE\\ML For NLP\\Final\n",
      "[nltk_data]     Project\\NLP-Sentiment-Classification\\nltk_data...\n",
      "[nltk_data]   Package stopwords is already up-to-date!\n",
      "[nltk_data] Downloading package punkt_tab to\n",
      "[nltk_data]     c:\\Users\\pc\\OneDrive\\Documents\\ENSAE\\ML For NLP\\Final\n",
      "[nltk_data]     Project\\NLP-Sentiment-Classification\\nltk_data...\n",
      "[nltk_data]   Package punkt_tab is already up-to-date!\n"
     ]
    },
    {
     "data": {
      "text/html": [
       "<div>\n",
       "<style scoped>\n",
       "    .dataframe tbody tr th:only-of-type {\n",
       "        vertical-align: middle;\n",
       "    }\n",
       "\n",
       "    .dataframe tbody tr th {\n",
       "        vertical-align: top;\n",
       "    }\n",
       "\n",
       "    .dataframe thead th {\n",
       "        text-align: right;\n",
       "    }\n",
       "</style>\n",
       "<table border=\"1\" class=\"dataframe\">\n",
       "  <thead>\n",
       "    <tr style=\"text-align: right;\">\n",
       "      <th></th>\n",
       "      <th>text</th>\n",
       "      <th>label</th>\n",
       "      <th>rating</th>\n",
       "      <th>split</th>\n",
       "      <th>file</th>\n",
       "    </tr>\n",
       "  </thead>\n",
       "  <tbody>\n",
       "    <tr>\n",
       "      <th>0</th>\n",
       "      <td>Bromwell High is a cartoon comedy. It ran at t...</td>\n",
       "      <td>1</td>\n",
       "      <td>9</td>\n",
       "      <td>train</td>\n",
       "      <td>0_9.txt</td>\n",
       "    </tr>\n",
       "    <tr>\n",
       "      <th>1</th>\n",
       "      <td>Homelessness (or Houselessness as George Carli...</td>\n",
       "      <td>1</td>\n",
       "      <td>8</td>\n",
       "      <td>train</td>\n",
       "      <td>10000_8.txt</td>\n",
       "    </tr>\n",
       "    <tr>\n",
       "      <th>2</th>\n",
       "      <td>Brilliant over-acting by Lesley Ann Warren. Be...</td>\n",
       "      <td>1</td>\n",
       "      <td>10</td>\n",
       "      <td>train</td>\n",
       "      <td>10001_10.txt</td>\n",
       "    </tr>\n",
       "    <tr>\n",
       "      <th>3</th>\n",
       "      <td>This is easily the most underrated film inn th...</td>\n",
       "      <td>1</td>\n",
       "      <td>7</td>\n",
       "      <td>train</td>\n",
       "      <td>10002_7.txt</td>\n",
       "    </tr>\n",
       "    <tr>\n",
       "      <th>4</th>\n",
       "      <td>This is not the typical Mel Brooks film. It wa...</td>\n",
       "      <td>1</td>\n",
       "      <td>8</td>\n",
       "      <td>train</td>\n",
       "      <td>10003_8.txt</td>\n",
       "    </tr>\n",
       "  </tbody>\n",
       "</table>\n",
       "</div>"
      ],
      "text/plain": [
       "                                                text  label  rating  split  \\\n",
       "0  Bromwell High is a cartoon comedy. It ran at t...      1       9  train   \n",
       "1  Homelessness (or Houselessness as George Carli...      1       8  train   \n",
       "2  Brilliant over-acting by Lesley Ann Warren. Be...      1      10  train   \n",
       "3  This is easily the most underrated film inn th...      1       7  train   \n",
       "4  This is not the typical Mel Brooks film. It wa...      1       8  train   \n",
       "\n",
       "           file  \n",
       "0       0_9.txt  \n",
       "1   10000_8.txt  \n",
       "2  10001_10.txt  \n",
       "3   10002_7.txt  \n",
       "4   10003_8.txt  "
      ]
     },
     "execution_count": 1,
     "metadata": {},
     "output_type": "execute_result"
    }
   ],
   "source": [
    "import pandas as pd\n",
    "from src.preprocessing import clean_text\n",
    "from src.er_lexicon import load_er_lexicon, compute_mean_er_score\n",
    "\n",
    "df = pd.read_csv(\"Data/aclImdb_prepared.csv\")\n",
    "df.head()"
   ]
  },
  {
   "cell_type": "code",
   "execution_count": null,
   "id": "5a521aac",
   "metadata": {},
   "outputs": [
    {
     "name": "stdout",
     "output_type": "stream",
     "text": [
      "                                                    text  \\\n",
      "34622  Thought provoking, humbling depiction of the h...   \n",
      "1163   I'd waited for some years before this movie fi...   \n",
      "7637   I've never been a fan of Farrah Fawcett...Unti...   \n",
      "7045   Watched both parts twice. Enjoyed the story an...   \n",
      "43847  Film starts off great in 1872 with a violent, ...   \n",
      "\n",
      "                                            cleaned_text  \n",
      "34622  thought provoking humbling depiction human tra...  \n",
      "1163   waited years movie finally got released englan...  \n",
      "7637   never fan farrah fawcett truly amazing movie e...  \n",
      "7045   watched parts twice enjoyed story enjoyed seei...  \n",
      "43847  film starts great violent bloody fight dracula...  \n"
     ]
    }
   ],
   "source": [
    "# Appliquer le nettoyage à un échantillon\n",
    "df_sample = df.sample(5, random_state=12)\n",
    "df_sample['cleaned_text'] = df_sample['text'].apply(clean_text)\n",
    "\n",
    "df_sample[['text', 'cleaned_text']]"
   ]
  },
  {
   "cell_type": "code",
   "execution_count": null,
   "id": "eaaf8df0",
   "metadata": {},
   "outputs": [],
   "source": [
    "# Nettoyage de tout le dataset\n",
    "df['cleaned_text'] = df['text'].apply(clean_text)"
   ]
  },
  {
   "cell_type": "code",
   "execution_count": 4,
   "id": "4007d906",
   "metadata": {},
   "outputs": [
    {
     "data": {
      "text/html": [
       "<div>\n",
       "<style scoped>\n",
       "    .dataframe tbody tr th:only-of-type {\n",
       "        vertical-align: middle;\n",
       "    }\n",
       "\n",
       "    .dataframe tbody tr th {\n",
       "        vertical-align: top;\n",
       "    }\n",
       "\n",
       "    .dataframe thead th {\n",
       "        text-align: right;\n",
       "    }\n",
       "</style>\n",
       "<table border=\"1\" class=\"dataframe\">\n",
       "  <thead>\n",
       "    <tr style=\"text-align: right;\">\n",
       "      <th></th>\n",
       "      <th>cleaned_text</th>\n",
       "      <th>er_score</th>\n",
       "    </tr>\n",
       "  </thead>\n",
       "  <tbody>\n",
       "    <tr>\n",
       "      <th>0</th>\n",
       "      <td>bromwell high cartoon comedy ran time programs...</td>\n",
       "      <td>0.245512</td>\n",
       "    </tr>\n",
       "    <tr>\n",
       "      <th>1</th>\n",
       "      <td>homelessness houselessness george carlin state...</td>\n",
       "      <td>0.090993</td>\n",
       "    </tr>\n",
       "    <tr>\n",
       "      <th>2</th>\n",
       "      <td>brilliant lesley ann warren best dramatic hobo...</td>\n",
       "      <td>0.168855</td>\n",
       "    </tr>\n",
       "    <tr>\n",
       "      <th>3</th>\n",
       "      <td>easily underrated film inn brooks cannon sure ...</td>\n",
       "      <td>0.175115</td>\n",
       "    </tr>\n",
       "    <tr>\n",
       "      <th>4</th>\n",
       "      <td>typical mel brooks film much less slapstick mo...</td>\n",
       "      <td>0.084981</td>\n",
       "    </tr>\n",
       "  </tbody>\n",
       "</table>\n",
       "</div>"
      ],
      "text/plain": [
       "                                        cleaned_text  er_score\n",
       "0  bromwell high cartoon comedy ran time programs...  0.245512\n",
       "1  homelessness houselessness george carlin state...  0.090993\n",
       "2  brilliant lesley ann warren best dramatic hobo...  0.168855\n",
       "3  easily underrated film inn brooks cannon sure ...  0.175115\n",
       "4  typical mel brooks film much less slapstick mo...  0.084981"
      ]
     },
     "execution_count": 4,
     "metadata": {},
     "output_type": "execute_result"
    }
   ],
   "source": [
    "lexicon = load_er_lexicon()\n",
    "df['er_score'] = df['cleaned_text'].apply(lambda x: compute_mean_er_score(x, lexicon))\n",
    "df[['cleaned_text', 'er_score']].head()"
   ]
  },
  {
   "cell_type": "code",
   "execution_count": 5,
   "id": "124f656f",
   "metadata": {},
   "outputs": [
    {
     "data": {
      "text/html": [
       "<div>\n",
       "<style scoped>\n",
       "    .dataframe tbody tr th:only-of-type {\n",
       "        vertical-align: middle;\n",
       "    }\n",
       "\n",
       "    .dataframe tbody tr th {\n",
       "        vertical-align: top;\n",
       "    }\n",
       "\n",
       "    .dataframe thead th {\n",
       "        text-align: right;\n",
       "    }\n",
       "</style>\n",
       "<table border=\"1\" class=\"dataframe\">\n",
       "  <thead>\n",
       "    <tr style=\"text-align: right;\">\n",
       "      <th></th>\n",
       "      <th>text</th>\n",
       "      <th>label</th>\n",
       "      <th>rating</th>\n",
       "      <th>split</th>\n",
       "      <th>file</th>\n",
       "      <th>cleaned_text</th>\n",
       "      <th>er_score</th>\n",
       "    </tr>\n",
       "  </thead>\n",
       "  <tbody>\n",
       "    <tr>\n",
       "      <th>0</th>\n",
       "      <td>Bromwell High is a cartoon comedy. It ran at t...</td>\n",
       "      <td>1</td>\n",
       "      <td>9</td>\n",
       "      <td>train</td>\n",
       "      <td>0_9.txt</td>\n",
       "      <td>bromwell high cartoon comedy ran time programs...</td>\n",
       "      <td>0.245512</td>\n",
       "    </tr>\n",
       "    <tr>\n",
       "      <th>1</th>\n",
       "      <td>Homelessness (or Houselessness as George Carli...</td>\n",
       "      <td>1</td>\n",
       "      <td>8</td>\n",
       "      <td>train</td>\n",
       "      <td>10000_8.txt</td>\n",
       "      <td>homelessness houselessness george carlin state...</td>\n",
       "      <td>0.090993</td>\n",
       "    </tr>\n",
       "    <tr>\n",
       "      <th>2</th>\n",
       "      <td>Brilliant over-acting by Lesley Ann Warren. Be...</td>\n",
       "      <td>1</td>\n",
       "      <td>10</td>\n",
       "      <td>train</td>\n",
       "      <td>10001_10.txt</td>\n",
       "      <td>brilliant lesley ann warren best dramatic hobo...</td>\n",
       "      <td>0.168855</td>\n",
       "    </tr>\n",
       "  </tbody>\n",
       "</table>\n",
       "</div>"
      ],
      "text/plain": [
       "                                                text  label  rating  split  \\\n",
       "0  Bromwell High is a cartoon comedy. It ran at t...      1       9  train   \n",
       "1  Homelessness (or Houselessness as George Carli...      1       8  train   \n",
       "2  Brilliant over-acting by Lesley Ann Warren. Be...      1      10  train   \n",
       "\n",
       "           file                                       cleaned_text  er_score  \n",
       "0       0_9.txt  bromwell high cartoon comedy ran time programs...  0.245512  \n",
       "1   10000_8.txt  homelessness houselessness george carlin state...  0.090993  \n",
       "2  10001_10.txt  brilliant lesley ann warren best dramatic hobo...  0.168855  "
      ]
     },
     "execution_count": 5,
     "metadata": {},
     "output_type": "execute_result"
    }
   ],
   "source": [
    "df.head(3)"
   ]
  },
  {
   "cell_type": "code",
   "execution_count": 6,
   "id": "5666f66c",
   "metadata": {},
   "outputs": [],
   "source": [
    "df.to_csv(\"Data/imdb_cleaned.csv\", index=False)"
   ]
  }
 ],
 "metadata": {
  "kernelspec": {
   "display_name": "env",
   "language": "python",
   "name": "python3"
  },
  "language_info": {
   "codemirror_mode": {
    "name": "ipython",
    "version": 3
   },
   "file_extension": ".py",
   "mimetype": "text/x-python",
   "name": "python",
   "nbconvert_exporter": "python",
   "pygments_lexer": "ipython3",
   "version": "3.12.4"
  }
 },
 "nbformat": 4,
 "nbformat_minor": 5
}
